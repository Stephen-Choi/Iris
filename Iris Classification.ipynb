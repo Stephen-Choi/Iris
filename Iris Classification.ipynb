{
 "cells": [
  {
   "cell_type": "markdown",
   "metadata": {},
   "source": [
    "<h1>Iris Classification</h1>"
   ]
  },
  {
   "cell_type": "code",
   "execution_count": 190,
   "metadata": {},
   "outputs": [],
   "source": [
    "import pandas as pd\n",
    "import numpy as np\n",
    "import matplotlib.pyplot as plt\n",
    "import seaborn as sns\n",
    "from scipy import stats"
   ]
  },
  {
   "cell_type": "code",
   "execution_count": 227,
   "metadata": {},
   "outputs": [
    {
     "data": {
      "text/html": [
       "<div>\n",
       "<style scoped>\n",
       "    .dataframe tbody tr th:only-of-type {\n",
       "        vertical-align: middle;\n",
       "    }\n",
       "\n",
       "    .dataframe tbody tr th {\n",
       "        vertical-align: top;\n",
       "    }\n",
       "\n",
       "    .dataframe thead th {\n",
       "        text-align: right;\n",
       "    }\n",
       "</style>\n",
       "<table border=\"1\" class=\"dataframe\">\n",
       "  <thead>\n",
       "    <tr style=\"text-align: right;\">\n",
       "      <th></th>\n",
       "      <th>Id</th>\n",
       "      <th>SepalLengthCm</th>\n",
       "      <th>SepalWidthCm</th>\n",
       "      <th>PetalLengthCm</th>\n",
       "      <th>PetalWidthCm</th>\n",
       "      <th>Species</th>\n",
       "    </tr>\n",
       "  </thead>\n",
       "  <tbody>\n",
       "    <tr>\n",
       "      <th>0</th>\n",
       "      <td>1</td>\n",
       "      <td>5.1</td>\n",
       "      <td>3.5</td>\n",
       "      <td>1.4</td>\n",
       "      <td>0.2</td>\n",
       "      <td>Iris-setosa</td>\n",
       "    </tr>\n",
       "    <tr>\n",
       "      <th>1</th>\n",
       "      <td>2</td>\n",
       "      <td>4.9</td>\n",
       "      <td>3.0</td>\n",
       "      <td>1.4</td>\n",
       "      <td>0.2</td>\n",
       "      <td>Iris-setosa</td>\n",
       "    </tr>\n",
       "    <tr>\n",
       "      <th>2</th>\n",
       "      <td>3</td>\n",
       "      <td>4.7</td>\n",
       "      <td>3.2</td>\n",
       "      <td>1.3</td>\n",
       "      <td>0.2</td>\n",
       "      <td>Iris-setosa</td>\n",
       "    </tr>\n",
       "    <tr>\n",
       "      <th>3</th>\n",
       "      <td>4</td>\n",
       "      <td>4.6</td>\n",
       "      <td>3.1</td>\n",
       "      <td>1.5</td>\n",
       "      <td>0.2</td>\n",
       "      <td>Iris-setosa</td>\n",
       "    </tr>\n",
       "    <tr>\n",
       "      <th>4</th>\n",
       "      <td>5</td>\n",
       "      <td>5.0</td>\n",
       "      <td>3.6</td>\n",
       "      <td>1.4</td>\n",
       "      <td>0.2</td>\n",
       "      <td>Iris-setosa</td>\n",
       "    </tr>\n",
       "  </tbody>\n",
       "</table>\n",
       "</div>"
      ],
      "text/plain": [
       "   Id  SepalLengthCm  SepalWidthCm  PetalLengthCm  PetalWidthCm      Species\n",
       "0   1            5.1           3.5            1.4           0.2  Iris-setosa\n",
       "1   2            4.9           3.0            1.4           0.2  Iris-setosa\n",
       "2   3            4.7           3.2            1.3           0.2  Iris-setosa\n",
       "3   4            4.6           3.1            1.5           0.2  Iris-setosa\n",
       "4   5            5.0           3.6            1.4           0.2  Iris-setosa"
      ]
     },
     "execution_count": 227,
     "metadata": {},
     "output_type": "execute_result"
    }
   ],
   "source": [
    "from sklearn.model_selection import train_test_split\n",
    "\n",
    "data = pd.read_csv('iris.csv')\n",
    "iris = pd.read_csv('iris.csv')\n",
    "\n",
    "iris.head(5)"
   ]
  },
  {
   "cell_type": "markdown",
   "metadata": {},
   "source": [
    "<h2>Univaraite Analysis</h2>"
   ]
  },
  {
   "cell_type": "code",
   "execution_count": 192,
   "metadata": {},
   "outputs": [],
   "source": [
    "def abs_bar_labels():\n",
    "    plt.ylabel('Absolute Frequency')\n",
    "    plt.xticks(rotation = 0)\n",
    "    plt.setp(ax.get_xticklabels(), rotation=30, horizontalalignment='right')\n",
    "    for x in ax.patches:\n",
    "        ax.annotate(x.get_height(), \n",
    "        (x.get_x() + x.get_width()/2., x.get_height()), ha = 'center', va = 'center', xytext = (0, 7), \n",
    "        textcoords = 'offset points', fontsize = 12, color = 'black')\n",
    "\n",
    "def rel_bar_labels():\n",
    "    plt.ylabel('Relative Frequency (%)')\n",
    "    plt.xticks(rotation = 0)\n",
    "    plt.setp(ax.get_xticklabels(), rotation=30, horizontalalignment='right')\n",
    "    for x in ax1.patches:\n",
    "        ax1.annotate(str(x.get_height()) + '%', \n",
    "        (x.get_x() + x.get_width()/2., x.get_height()), ha = 'center', va = 'center', xytext = (0, 7), \n",
    "        textcoords = 'offset points', fontsize = 12, color = 'black')\n",
    "        \n",
    "def item_count(var, lengths):\n",
    "    global ax, ax1\n",
    "    \n",
    "    if lengths:\n",
    "        cut_points = [0,1,2,3,4,5,6,7,8,9]\n",
    "        var = pd.cut(var, cut_points)\n",
    "    \n",
    "    abs_freq = var.value_counts()\n",
    "    rel_freq = round(var.value_counts(normalize = True)*100, 2)\n",
    "    abs_rel = pd.DataFrame({'absolute': abs_freq, 'relative': rel_freq})    \n",
    "        \n",
    "    ax = abs_freq.plot.bar()\n",
    "    plt.title('Absolute Frequency of %s' %var.name)\n",
    "    abs_bar_labels()\n",
    "    plt.show()\n",
    "    \n",
    "    ax1 = rel_freq.plot.bar()\n",
    "    plt.title('Relative Frequency of %s' %var.name)\n",
    "    rel_bar_labels()\n",
    "    plt.show()\n",
    "    \n",
    "    display(abs_rel.sort_index(axis=0, ascending=True))"
   ]
  },
  {
   "cell_type": "code",
   "execution_count": 193,
   "metadata": {},
   "outputs": [
    {
     "data": {
      "image/png": "[encoded data removed]",
      "text/plain": [
       "<Figure size 432x288 with 1 Axes>"
      ]
     },
     "metadata": {},
     "output_type": "display_data"
    },
    {
     "data": {
      "image/png": "[encoded data removed]",
      "text/plain": [
       "<Figure size 432x288 with 1 Axes>"
      ]
     },
     "metadata": {},
     "output_type": "display_data"
    },
    {
     "data": {
      "text/html": [
       "<div>\n",
       "<style scoped>\n",
       "    .dataframe tbody tr th:only-of-type {\n",
       "        vertical-align: middle;\n",
       "    }\n",
       "\n",
       "    .dataframe tbody tr th {\n",
       "        vertical-align: top;\n",
       "    }\n",
       "\n",
       "    .dataframe thead th {\n",
       "        text-align: right;\n",
       "    }\n",
       "</style>\n",
       "<table border=\"1\" class=\"dataframe\">\n",
       "  <thead>\n",
       "    <tr style=\"text-align: right;\">\n",
       "      <th></th>\n",
       "      <th>absolute</th>\n",
       "      <th>relative</th>\n",
       "    </tr>\n",
       "  </thead>\n",
       "  <tbody>\n",
       "    <tr>\n",
       "      <th>Iris-setosa</th>\n",
       "      <td>50</td>\n",
       "      <td>33.33</td>\n",
       "    </tr>\n",
       "    <tr>\n",
       "      <th>Iris-versicolor</th>\n",
       "      <td>50</td>\n",
       "      <td>33.33</td>\n",
       "    </tr>\n",
       "    <tr>\n",
       "      <th>Iris-virginica</th>\n",
       "      <td>50</td>\n",
       "      <td>33.33</td>\n",
       "    </tr>\n",
       "  </tbody>\n",
       "</table>\n",
       "</div>"
      ],
      "text/plain": [
       "                 absolute  relative\n",
       "Iris-setosa            50     33.33\n",
       "Iris-versicolor        50     33.33\n",
       "Iris-virginica         50     33.33"
      ]
     },
     "metadata": {},
     "output_type": "display_data"
    }
   ],
   "source": [
    "item_count(iris.Species, False)"
   ]
  },
  {
   "cell_type": "code",
   "execution_count": 194,
   "metadata": {},
   "outputs": [
    {
     "data": {
      "image/png": "[encoded data removed]",
      "text/plain": [
       "<Figure size 432x288 with 1 Axes>"
      ]
     },
     "metadata": {},
     "output_type": "display_data"
    },
    {
     "data": {
      "image/png": "[encoded data removed]",
      "text/plain": [
       "<Figure size 432x288 with 1 Axes>"
      ]
     },
     "metadata": {},
     "output_type": "display_data"
    },
    {
     "data": {
      "text/html": [
       "<div>\n",
       "<style scoped>\n",
       "    .dataframe tbody tr th:only-of-type {\n",
       "        vertical-align: middle;\n",
       "    }\n",
       "\n",
       "    .dataframe tbody tr th {\n",
       "        vertical-align: top;\n",
       "    }\n",
       "\n",
       "    .dataframe thead th {\n",
       "        text-align: right;\n",
       "    }\n",
       "</style>\n",
       "<table border=\"1\" class=\"dataframe\">\n",
       "  <thead>\n",
       "    <tr style=\"text-align: right;\">\n",
       "      <th></th>\n",
       "      <th>absolute</th>\n",
       "      <th>relative</th>\n",
       "    </tr>\n",
       "  </thead>\n",
       "  <tbody>\n",
       "    <tr>\n",
       "      <th>(0, 1]</th>\n",
       "      <td>0</td>\n",
       "      <td>0.00</td>\n",
       "    </tr>\n",
       "    <tr>\n",
       "      <th>(1, 2]</th>\n",
       "      <td>0</td>\n",
       "      <td>0.00</td>\n",
       "    </tr>\n",
       "    <tr>\n",
       "      <th>(2, 3]</th>\n",
       "      <td>0</td>\n",
       "      <td>0.00</td>\n",
       "    </tr>\n",
       "    <tr>\n",
       "      <th>(3, 4]</th>\n",
       "      <td>0</td>\n",
       "      <td>0.00</td>\n",
       "    </tr>\n",
       "    <tr>\n",
       "      <th>(4, 5]</th>\n",
       "      <td>32</td>\n",
       "      <td>21.33</td>\n",
       "    </tr>\n",
       "    <tr>\n",
       "      <th>(5, 6]</th>\n",
       "      <td>57</td>\n",
       "      <td>38.00</td>\n",
       "    </tr>\n",
       "    <tr>\n",
       "      <th>(6, 7]</th>\n",
       "      <td>49</td>\n",
       "      <td>32.67</td>\n",
       "    </tr>\n",
       "    <tr>\n",
       "      <th>(7, 8]</th>\n",
       "      <td>12</td>\n",
       "      <td>8.00</td>\n",
       "    </tr>\n",
       "    <tr>\n",
       "      <th>(8, 9]</th>\n",
       "      <td>0</td>\n",
       "      <td>0.00</td>\n",
       "    </tr>\n",
       "  </tbody>\n",
       "</table>\n",
       "</div>"
      ],
      "text/plain": [
       "        absolute  relative\n",
       "(0, 1]         0      0.00\n",
       "(1, 2]         0      0.00\n",
       "(2, 3]         0      0.00\n",
       "(3, 4]         0      0.00\n",
       "(4, 5]        32     21.33\n",
       "(5, 6]        57     38.00\n",
       "(6, 7]        49     32.67\n",
       "(7, 8]        12      8.00\n",
       "(8, 9]         0      0.00"
      ]
     },
     "metadata": {},
     "output_type": "display_data"
    }
   ],
   "source": [
    "item_count(iris.SepalLengthCm, True)"
   ]
  },
  {
   "cell_type": "code",
   "execution_count": 195,
   "metadata": {},
   "outputs": [
    {
     "data": {
      "image/png": "[encoded data removed]",
      "text/plain": [
       "<Figure size 432x288 with 1 Axes>"
      ]
     },
     "metadata": {},
     "output_type": "display_data"
    },
    {
     "data": {
      "image/png": "[encoded data removed]",
      "text/plain": [
       "<Figure size 432x288 with 1 Axes>"
      ]
     },
     "metadata": {},
     "output_type": "display_data"
    },
    {
     "data": {
      "text/html": [
       "<div>\n",
       "<style scoped>\n",
       "    .dataframe tbody tr th:only-of-type {\n",
       "        vertical-align: middle;\n",
       "    }\n",
       "\n",
       "    .dataframe tbody tr th {\n",
       "        vertical-align: top;\n",
       "    }\n",
       "\n",
       "    .dataframe thead th {\n",
       "        text-align: right;\n",
       "    }\n",
       "</style>\n",
       "<table border=\"1\" class=\"dataframe\">\n",
       "  <thead>\n",
       "    <tr style=\"text-align: right;\">\n",
       "      <th></th>\n",
       "      <th>absolute</th>\n",
       "      <th>relative</th>\n",
       "    </tr>\n",
       "  </thead>\n",
       "  <tbody>\n",
       "    <tr>\n",
       "      <th>(0, 1]</th>\n",
       "      <td>0</td>\n",
       "      <td>0.00</td>\n",
       "    </tr>\n",
       "    <tr>\n",
       "      <th>(1, 2]</th>\n",
       "      <td>1</td>\n",
       "      <td>0.67</td>\n",
       "    </tr>\n",
       "    <tr>\n",
       "      <th>(2, 3]</th>\n",
       "      <td>82</td>\n",
       "      <td>54.67</td>\n",
       "    </tr>\n",
       "    <tr>\n",
       "      <th>(3, 4]</th>\n",
       "      <td>64</td>\n",
       "      <td>42.67</td>\n",
       "    </tr>\n",
       "    <tr>\n",
       "      <th>(4, 5]</th>\n",
       "      <td>3</td>\n",
       "      <td>2.00</td>\n",
       "    </tr>\n",
       "    <tr>\n",
       "      <th>(5, 6]</th>\n",
       "      <td>0</td>\n",
       "      <td>0.00</td>\n",
       "    </tr>\n",
       "    <tr>\n",
       "      <th>(6, 7]</th>\n",
       "      <td>0</td>\n",
       "      <td>0.00</td>\n",
       "    </tr>\n",
       "    <tr>\n",
       "      <th>(7, 8]</th>\n",
       "      <td>0</td>\n",
       "      <td>0.00</td>\n",
       "    </tr>\n",
       "    <tr>\n",
       "      <th>(8, 9]</th>\n",
       "      <td>0</td>\n",
       "      <td>0.00</td>\n",
       "    </tr>\n",
       "  </tbody>\n",
       "</table>\n",
       "</div>"
      ],
      "text/plain": [
       "        absolute  relative\n",
       "(0, 1]         0      0.00\n",
       "(1, 2]         1      0.67\n",
       "(2, 3]        82     54.67\n",
       "(3, 4]        64     42.67\n",
       "(4, 5]         3      2.00\n",
       "(5, 6]         0      0.00\n",
       "(6, 7]         0      0.00\n",
       "(7, 8]         0      0.00\n",
       "(8, 9]         0      0.00"
      ]
     },
     "metadata": {},
     "output_type": "display_data"
    }
   ],
   "source": [
    "item_count(iris.SepalWidthCm, True)"
   ]
  },
  {
   "cell_type": "code",
   "execution_count": 196,
   "metadata": {},
   "outputs": [
    {
     "data": {
      "image/png": "[encoded data removed]",
      "text/plain": [
       "<Figure size 432x288 with 1 Axes>"
      ]
     },
     "metadata": {},
     "output_type": "display_data"
    },
    {
     "data": {
      "image/png": "[encoded data removed]",
      "text/plain": [
       "<Figure size 432x288 with 1 Axes>"
      ]
     },
     "metadata": {},
     "output_type": "display_data"
    },
    {
     "data": {
      "text/html": [
       "<div>\n",
       "<style scoped>\n",
       "    .dataframe tbody tr th:only-of-type {\n",
       "        vertical-align: middle;\n",
       "    }\n",
       "\n",
       "    .dataframe tbody tr th {\n",
       "        vertical-align: top;\n",
       "    }\n",
       "\n",
       "    .dataframe thead th {\n",
       "        text-align: right;\n",
       "    }\n",
       "</style>\n",
       "<table border=\"1\" class=\"dataframe\">\n",
       "  <thead>\n",
       "    <tr style=\"text-align: right;\">\n",
       "      <th></th>\n",
       "      <th>absolute</th>\n",
       "      <th>relative</th>\n",
       "    </tr>\n",
       "  </thead>\n",
       "  <tbody>\n",
       "    <tr>\n",
       "      <th>(0, 1]</th>\n",
       "      <td>1</td>\n",
       "      <td>0.67</td>\n",
       "    </tr>\n",
       "    <tr>\n",
       "      <th>(1, 2]</th>\n",
       "      <td>49</td>\n",
       "      <td>32.67</td>\n",
       "    </tr>\n",
       "    <tr>\n",
       "      <th>(2, 3]</th>\n",
       "      <td>1</td>\n",
       "      <td>0.67</td>\n",
       "    </tr>\n",
       "    <tr>\n",
       "      <th>(3, 4]</th>\n",
       "      <td>15</td>\n",
       "      <td>10.00</td>\n",
       "    </tr>\n",
       "    <tr>\n",
       "      <th>(4, 5]</th>\n",
       "      <td>42</td>\n",
       "      <td>28.00</td>\n",
       "    </tr>\n",
       "    <tr>\n",
       "      <th>(5, 6]</th>\n",
       "      <td>33</td>\n",
       "      <td>22.00</td>\n",
       "    </tr>\n",
       "    <tr>\n",
       "      <th>(6, 7]</th>\n",
       "      <td>9</td>\n",
       "      <td>6.00</td>\n",
       "    </tr>\n",
       "    <tr>\n",
       "      <th>(7, 8]</th>\n",
       "      <td>0</td>\n",
       "      <td>0.00</td>\n",
       "    </tr>\n",
       "    <tr>\n",
       "      <th>(8, 9]</th>\n",
       "      <td>0</td>\n",
       "      <td>0.00</td>\n",
       "    </tr>\n",
       "  </tbody>\n",
       "</table>\n",
       "</div>"
      ],
      "text/plain": [
       "        absolute  relative\n",
       "(0, 1]         1      0.67\n",
       "(1, 2]        49     32.67\n",
       "(2, 3]         1      0.67\n",
       "(3, 4]        15     10.00\n",
       "(4, 5]        42     28.00\n",
       "(5, 6]        33     22.00\n",
       "(6, 7]         9      6.00\n",
       "(7, 8]         0      0.00\n",
       "(8, 9]         0      0.00"
      ]
     },
     "metadata": {},
     "output_type": "display_data"
    }
   ],
   "source": [
    "item_count(iris.PetalLengthCm, True)"
   ]
  },
  {
   "cell_type": "code",
   "execution_count": 197,
   "metadata": {},
   "outputs": [
    {
     "data": {
      "image/png": "[encoded data removed]",
      "text/plain": [
       "<Figure size 432x288 with 1 Axes>"
      ]
     },
     "metadata": {},
     "output_type": "display_data"
    },
    {
     "data": {
      "image/png": "[encoded data removed]",
      "text/plain": [
       "<Figure size 432x288 with 1 Axes>"
      ]
     },
     "metadata": {},
     "output_type": "display_data"
    },
    {
     "data": {
      "text/html": [
       "<div>\n",
       "<style scoped>\n",
       "    .dataframe tbody tr th:only-of-type {\n",
       "        vertical-align: middle;\n",
       "    }\n",
       "\n",
       "    .dataframe tbody tr th {\n",
       "        vertical-align: top;\n",
       "    }\n",
       "\n",
       "    .dataframe thead th {\n",
       "        text-align: right;\n",
       "    }\n",
       "</style>\n",
       "<table border=\"1\" class=\"dataframe\">\n",
       "  <thead>\n",
       "    <tr style=\"text-align: right;\">\n",
       "      <th></th>\n",
       "      <th>absolute</th>\n",
       "      <th>relative</th>\n",
       "    </tr>\n",
       "  </thead>\n",
       "  <tbody>\n",
       "    <tr>\n",
       "      <th>(0, 1]</th>\n",
       "      <td>57</td>\n",
       "      <td>38.00</td>\n",
       "    </tr>\n",
       "    <tr>\n",
       "      <th>(1, 2]</th>\n",
       "      <td>70</td>\n",
       "      <td>46.67</td>\n",
       "    </tr>\n",
       "    <tr>\n",
       "      <th>(2, 3]</th>\n",
       "      <td>23</td>\n",
       "      <td>15.33</td>\n",
       "    </tr>\n",
       "    <tr>\n",
       "      <th>(3, 4]</th>\n",
       "      <td>0</td>\n",
       "      <td>0.00</td>\n",
       "    </tr>\n",
       "    <tr>\n",
       "      <th>(4, 5]</th>\n",
       "      <td>0</td>\n",
       "      <td>0.00</td>\n",
       "    </tr>\n",
       "    <tr>\n",
       "      <th>(5, 6]</th>\n",
       "      <td>0</td>\n",
       "      <td>0.00</td>\n",
       "    </tr>\n",
       "    <tr>\n",
       "      <th>(6, 7]</th>\n",
       "      <td>0</td>\n",
       "      <td>0.00</td>\n",
       "    </tr>\n",
       "    <tr>\n",
       "      <th>(7, 8]</th>\n",
       "      <td>0</td>\n",
       "      <td>0.00</td>\n",
       "    </tr>\n",
       "    <tr>\n",
       "      <th>(8, 9]</th>\n",
       "      <td>0</td>\n",
       "      <td>0.00</td>\n",
       "    </tr>\n",
       "  </tbody>\n",
       "</table>\n",
       "</div>"
      ],
      "text/plain": [
       "        absolute  relative\n",
       "(0, 1]        57     38.00\n",
       "(1, 2]        70     46.67\n",
       "(2, 3]        23     15.33\n",
       "(3, 4]         0      0.00\n",
       "(4, 5]         0      0.00\n",
       "(5, 6]         0      0.00\n",
       "(6, 7]         0      0.00\n",
       "(7, 8]         0      0.00\n",
       "(8, 9]         0      0.00"
      ]
     },
     "metadata": {},
     "output_type": "display_data"
    }
   ],
   "source": [
    "item_count(iris.PetalWidthCm, True)"
   ]
  },
  {
   "cell_type": "code",
   "execution_count": 198,
   "metadata": {
    "scrolled": false
   },
   "outputs": [
    {
     "data": {
      "text/plain": [
       "Id               0\n",
       "SepalLengthCm    0\n",
       "SepalWidthCm     0\n",
       "PetalLengthCm    0\n",
       "PetalWidthCm     0\n",
       "Species          0\n",
       "dtype: int64"
      ]
     },
     "execution_count": 198,
     "metadata": {},
     "output_type": "execute_result"
    }
   ],
   "source": [
    "iris.isna().sum()"
   ]
  },
  {
   "cell_type": "markdown",
   "metadata": {},
   "source": [
    "<h3>Findings</h3>\n",
    "<br>\n",
    "The dataset is complete, no missing values. Additionally, we see that the distribution of categories is more or less even, 43% in favour of Setosa and Vesicolor and 34% for virginica. All distribution of values for lengths are dispersed except for SepalWidthCm in which most values lie between (2,3] (53%) and (3,4] (43%) which could prove to be a problem as there is very low variance in those values. In other words, it might not be useful for classifying but further analysis is required before dropping it. "
   ]
  },
  {
   "cell_type": "markdown",
   "metadata": {},
   "source": [
    "<h2>View the data in a scatter plot to find patterns</h2>"
   ]
  },
  {
   "cell_type": "code",
   "execution_count": 199,
   "metadata": {
    "scrolled": true
   },
   "outputs": [
    {
     "data": {
      "image/png": "[encoded data removed]",
      "text/plain": [
       "<Figure size 720x432 with 1 Axes>"
      ]
     },
     "metadata": {},
     "output_type": "display_data"
    }
   ],
   "source": [
    "fig = iris[iris.Species=='Iris-setosa'].plot(kind='scatter',x='SepalLengthCm',y='SepalWidthCm',color='orange', label='Setosa')\n",
    "iris[iris.Species=='Iris-versicolor'].plot(kind='scatter',x='SepalLengthCm',y='SepalWidthCm',color='blue', label='versicolor',ax=fig)\n",
    "iris[iris.Species=='Iris-virginica'].plot(kind='scatter',x='SepalLengthCm',y='SepalWidthCm',color='green', label='virginica', ax=fig)\n",
    "fig.set_xlabel(\"Sepal Length\")\n",
    "fig.set_ylabel(\"Sepal Width\")\n",
    "fig.set_title(\"Sepal Length VS Width\")\n",
    "fig=plt.gcf()\n",
    "fig.set_size_inches(10,6)\n",
    "plt.show()"
   ]
  },
  {
   "cell_type": "code",
   "execution_count": 200,
   "metadata": {},
   "outputs": [
    {
     "data": {
      "image/png": "[encoded data removed]",
      "text/plain": [
       "<Figure size 720x432 with 1 Axes>"
      ]
     },
     "metadata": {},
     "output_type": "display_data"
    }
   ],
   "source": [
    "fig = iris[iris.Species=='Iris-setosa'].plot(kind='scatter', x='PetalLengthCm', y='PetalWidthCm', color='orange', label='Setosa')\n",
    "iris[iris.Species=='Iris-versicolor'].plot(kind='scatter', x='PetalLengthCm', y='PetalWidthCm', color='green', label='verisicolor', ax=fig)\n",
    "iris[iris.Species=='Iris-virginica'].plot(kind='scatter', x='PetalLengthCm', y='PetalWidthCm', color='blue', label='virginica', ax=fig)\n",
    "fig.set_xlabel(\"Petal Length\")\n",
    "fig.set_ylabel(\"Petal Width\")\n",
    "fig=plt.gcf()\n",
    "fig.set_size_inches(10,6)\n",
    "plt.show()"
   ]
  },
  {
   "cell_type": "markdown",
   "metadata": {},
   "source": [
    "From the Scatter plots, we can see that petal length and widths have clear distinct groupings within the data as opposed to Sepal. As such, we can make a prediction that the petal features will be more reliable training features than Sepal data."
   ]
  },
  {
   "cell_type": "markdown",
   "metadata": {},
   "source": [
    "<h2>Bivariate Analysis</h2>"
   ]
  },
  {
   "cell_type": "code",
   "execution_count": 201,
   "metadata": {},
   "outputs": [],
   "source": [
    "def boxplot(nume,cat):\n",
    "    '''cat = categorical variable, and nume = numerical variable.'''\n",
    "    ax = sns.boxplot(x = cat, y = nume)\n",
    "    \n",
    "    # Select boxes to change the color\n",
    "    box = ax.artists[0]\n",
    "    box1 = ax.artists[1]\n",
    "    \n",
    "    # Change the appearance of that box\n",
    "    box.set_facecolor('red')\n",
    "    box1.set_facecolor('green')\n",
    "    \n",
    "    plt.title('Association between Species & %s' %nume.name)\n",
    "    plt.show()\n",
    "    return display(ax)\n",
    "\n",
    "def nume_grouped_by_cat(nume, cat):\n",
    "    global ax\n",
    "    grouped_by_cat = nume.groupby(cat).mean().sort_values( ascending = False)\n",
    "    grouped_by_cat = round(grouped_by_cat, 2)\n",
    "    ax = grouped_by_cat.plot.bar() \n",
    "    abs_bar_labels()\n",
    "    plt.ylabel('Mean %s' %nume.name)\n",
    "    plt.title('Species vs %s' %nume.name)\n",
    "    print('Mean', nume.name, 'of Survivors vs Victims:')\n",
    "    return display(grouped_by_cat)\n",
    "\n",
    "def nume_hist_by_cat(nume,cat):\n",
    "    nume[cat == 'Iris-virginica'].hist(color = ['g'], grid = False, label='Iris-virginica')\n",
    "    nume[cat == 'Iris-versicolor'].hist(color = ['r'], grid = False, label='Iris-versicolor')\n",
    "    nume[cat == 'Iris-setosa'].hist(color = ['b'], grid = False, label='Iris-setosa')\n",
    "    plt.legend()\n",
    "    plt.yticks([])\n",
    "    plt.xlabel('%s' %nume.name)\n",
    "    plt.title('Species vs %s' %nume.name)\n",
    "    \n",
    "def anova(nume, cat):\n",
    "    group2 = nume[cat == 'Iris-setosa']\n",
    "    group1 = nume[cat == 'Iris-virginica']\n",
    "    group0 = nume[cat == 'Iris-versicolor']\n",
    "    \n",
    "    f_ratio, p_value = stats.f_oneway(group2, group1, group0)\n",
    "    print(\"f ratio is: \", f_ratio, \" and the p_value is: \", p_value)\n",
    "    \n",
    "def tukey(nume, group):\n",
    "    from statsmodels.stats.multicomp import pairwise_tukeyhsd\n",
    "    tukey = pairwise_tukeyhsd(endog = nume, \n",
    "                              groups = group,\n",
    "                              alpha = 0.05)\n",
    "    summary = tukey.summary()\n",
    "    display(summary)"
   ]
  },
  {
   "cell_type": "markdown",
   "metadata": {},
   "source": [
    "<h3>Species and SepalLengthCm</h3>"
   ]
  },
  {
   "cell_type": "code",
   "execution_count": 202,
   "metadata": {},
   "outputs": [
    {
     "name": "stdout",
     "output_type": "stream",
     "text": [
      "Mean SepalLengthCm of Survivors vs Victims:\n"
     ]
    },
    {
     "data": {
      "text/plain": [
       "Species\n",
       "Iris-virginica     6.59\n",
       "Iris-versicolor    5.94\n",
       "Iris-setosa        5.01\n",
       "Name: SepalLengthCm, dtype: float64"
      ]
     },
     "metadata": {},
     "output_type": "display_data"
    },
    {
     "data": {
      "image/png": "[encoded data removed]",
      "text/plain": [
       "<Figure size 432x288 with 1 Axes>"
      ]
     },
     "metadata": {},
     "output_type": "display_data"
    }
   ],
   "source": [
    "nume_grouped_by_cat(iris.SepalLengthCm, iris.Species)"
   ]
  },
  {
   "cell_type": "code",
   "execution_count": 203,
   "metadata": {},
   "outputs": [
    {
     "data": {
      "image/png": "[encoded data removed]",
      "text/plain": [
       "<Figure size 432x288 with 1 Axes>"
      ]
     },
     "metadata": {},
     "output_type": "display_data"
    },
    {
     "data": {
      "text/plain": [
       "<matplotlib.axes._subplots.AxesSubplot at 0x1a1879be80>"
      ]
     },
     "metadata": {},
     "output_type": "display_data"
    }
   ],
   "source": [
    "boxplot(iris.SepalLengthCm, iris.Species)"
   ]
  },
  {
   "cell_type": "code",
   "execution_count": 204,
   "metadata": {},
   "outputs": [
    {
     "data": {
      "image/png": "[encoded data removed]",
      "text/plain": [
       "<Figure size 432x288 with 1 Axes>"
      ]
     },
     "metadata": {},
     "output_type": "display_data"
    }
   ],
   "source": [
    "nume_hist_by_cat(iris.SepalLengthCm, iris.Species)"
   ]
  },
  {
   "cell_type": "code",
   "execution_count": 205,
   "metadata": {},
   "outputs": [
    {
     "name": "stdout",
     "output_type": "stream",
     "text": [
      "f ratio is:  119.26450218450468  and the p_value is:  1.6696691907693826e-31\n"
     ]
    }
   ],
   "source": [
    "anova(iris.SepalLengthCm, iris.Species)"
   ]
  },
  {
   "cell_type": "code",
   "execution_count": 206,
   "metadata": {
    "scrolled": true
   },
   "outputs": [
    {
     "data": {
      "text/html": [
       "<table class=\"simpletable\">\n",
       "<caption>Multiple Comparison of Means - Tukey HSD,FWER=0.05</caption>\n",
       "<tr>\n",
       "      <th>group1</th>          <th>group2</th>      <th>meandiff</th>  <th>lower</th>  <th>upper</th> <th>reject</th>\n",
       "</tr>\n",
       "<tr>\n",
       "    <td>Iris-setosa</td>   <td>Iris-versicolor</td>   <td>0.93</td>   <td>0.6862</td> <td>1.1738</td>  <td>True</td> \n",
       "</tr>\n",
       "<tr>\n",
       "    <td>Iris-setosa</td>   <td>Iris-virginica</td>    <td>1.582</td>  <td>1.3382</td> <td>1.8258</td>  <td>True</td> \n",
       "</tr>\n",
       "<tr>\n",
       "  <td>Iris-versicolor</td> <td>Iris-virginica</td>    <td>0.652</td>  <td>0.4082</td> <td>0.8958</td>  <td>True</td> \n",
       "</tr>\n",
       "</table>"
      ],
      "text/plain": [
       "<class 'statsmodels.iolib.table.SimpleTable'>"
      ]
     },
     "metadata": {},
     "output_type": "display_data"
    }
   ],
   "source": [
    "tukey(iris.SepalLengthCm, iris.Species)"
   ]
  },
  {
   "cell_type": "markdown",
   "metadata": {},
   "source": [
    "<h3>Findings</h3>\n",
    "<br>\n",
    "Looking at our plots and the anova/tukey results, we can see that each of the three species have statistically\n",
    "significant differences in SpepalLength. This is a good indicator that this will be a strong classifier. "
   ]
  },
  {
   "cell_type": "markdown",
   "metadata": {},
   "source": [
    "<h3>Species and SepalWidthCm</h3>"
   ]
  },
  {
   "cell_type": "code",
   "execution_count": 207,
   "metadata": {},
   "outputs": [
    {
     "name": "stdout",
     "output_type": "stream",
     "text": [
      "Mean SepalWidthCm of Survivors vs Victims:\n"
     ]
    },
    {
     "data": {
      "text/plain": [
       "Species\n",
       "Iris-setosa        3.42\n",
       "Iris-virginica     2.97\n",
       "Iris-versicolor    2.77\n",
       "Name: SepalWidthCm, dtype: float64"
      ]
     },
     "metadata": {},
     "output_type": "display_data"
    },
    {
     "data": {
      "image/png": "[encoded data removed]",
      "text/plain": [
       "<Figure size 432x288 with 1 Axes>"
      ]
     },
     "metadata": {},
     "output_type": "display_data"
    }
   ],
   "source": [
    "nume_grouped_by_cat(iris.SepalWidthCm, iris.Species)"
   ]
  },
  {
   "cell_type": "code",
   "execution_count": 208,
   "metadata": {},
   "outputs": [
    {
     "data": {
      "image/png": "[encoded data removed]",
      "text/plain": [
       "<Figure size 432x288 with 1 Axes>"
      ]
     },
     "metadata": {},
     "output_type": "display_data"
    },
    {
     "data": {
      "text/plain": [
       "<matplotlib.axes._subplots.AxesSubplot at 0x1a17df02e8>"
      ]
     },
     "metadata": {},
     "output_type": "display_data"
    }
   ],
   "source": [
    "boxplot(iris.SepalWidthCm, iris.Species)"
   ]
  },
  {
   "cell_type": "code",
   "execution_count": 209,
   "metadata": {},
   "outputs": [
    {
     "data": {
      "image/png": "[encoded data removed]",
      "text/plain": [
       "<Figure size 432x288 with 1 Axes>"
      ]
     },
     "metadata": {},
     "output_type": "display_data"
    }
   ],
   "source": [
    "nume_hist_by_cat(iris.SepalWidthCm, iris.Species)"
   ]
  },
  {
   "cell_type": "code",
   "execution_count": 210,
   "metadata": {},
   "outputs": [
    {
     "name": "stdout",
     "output_type": "stream",
     "text": [
      "f ratio is:  47.36446140299383  and the p_value is:  1.3279165184572065e-16\n"
     ]
    }
   ],
   "source": [
    "anova(iris.SepalWidthCm, iris.Species)"
   ]
  },
  {
   "cell_type": "code",
   "execution_count": 211,
   "metadata": {},
   "outputs": [
    {
     "data": {
      "text/html": [
       "<table class=\"simpletable\">\n",
       "<caption>Multiple Comparison of Means - Tukey HSD,FWER=0.05</caption>\n",
       "<tr>\n",
       "      <th>group1</th>          <th>group2</th>      <th>meandiff</th>  <th>lower</th>   <th>upper</th>  <th>reject</th>\n",
       "</tr>\n",
       "<tr>\n",
       "    <td>Iris-setosa</td>   <td>Iris-versicolor</td>  <td>-0.648</td>  <td>-0.8092</td> <td>-0.4868</td>  <td>True</td> \n",
       "</tr>\n",
       "<tr>\n",
       "    <td>Iris-setosa</td>   <td>Iris-virginica</td>   <td>-0.444</td>  <td>-0.6052</td> <td>-0.2828</td>  <td>True</td> \n",
       "</tr>\n",
       "<tr>\n",
       "  <td>Iris-versicolor</td> <td>Iris-virginica</td>    <td>0.204</td>  <td>0.0428</td>  <td>0.3652</td>   <td>True</td> \n",
       "</tr>\n",
       "</table>"
      ],
      "text/plain": [
       "<class 'statsmodels.iolib.table.SimpleTable'>"
      ]
     },
     "metadata": {},
     "output_type": "display_data"
    }
   ],
   "source": [
    "tukey(iris.SepalWidthCm, iris.Species)"
   ]
  },
  {
   "cell_type": "markdown",
   "metadata": {},
   "source": [
    "<h3>Findings</h3>\n",
    "<br>\n",
    "Through the plots, we can see that virginica and versicolor have very similar SepalWidths which justifies what we noticed in our univariate analysis. The setosa specifies however has a tendency to have much larger widths."
   ]
  },
  {
   "cell_type": "markdown",
   "metadata": {},
   "source": [
    "<h3>Species and PetalLength</h3>"
   ]
  },
  {
   "cell_type": "code",
   "execution_count": 212,
   "metadata": {},
   "outputs": [
    {
     "name": "stdout",
     "output_type": "stream",
     "text": [
      "Mean PetalLengthCm of Survivors vs Victims:\n"
     ]
    },
    {
     "data": {
      "text/plain": [
       "Species\n",
       "Iris-virginica     5.55\n",
       "Iris-versicolor    4.26\n",
       "Iris-setosa        1.46\n",
       "Name: PetalLengthCm, dtype: float64"
      ]
     },
     "metadata": {},
     "output_type": "display_data"
    },
    {
     "data": {
      "image/png": "[encoded data removed]",
      "text/plain": [
       "<Figure size 432x288 with 1 Axes>"
      ]
     },
     "metadata": {},
     "output_type": "display_data"
    }
   ],
   "source": [
    "nume_grouped_by_cat(iris.PetalLengthCm, iris.Species)"
   ]
  },
  {
   "cell_type": "code",
   "execution_count": 213,
   "metadata": {},
   "outputs": [
    {
     "data": {
      "image/png": "[encoded data removed]",
      "text/plain": [
       "<Figure size 432x288 with 1 Axes>"
      ]
     },
     "metadata": {},
     "output_type": "display_data"
    },
    {
     "data": {
      "text/plain": [
       "<matplotlib.axes._subplots.AxesSubplot at 0x1a17d760f0>"
      ]
     },
     "metadata": {},
     "output_type": "display_data"
    }
   ],
   "source": [
    "boxplot(iris.PetalLengthCm, iris.Species)"
   ]
  },
  {
   "cell_type": "code",
   "execution_count": 214,
   "metadata": {},
   "outputs": [
    {
     "data": {
      "image/png": "[encoded data removed]",
      "text/plain": [
       "<Figure size 432x288 with 1 Axes>"
      ]
     },
     "metadata": {},
     "output_type": "display_data"
    }
   ],
   "source": [
    "nume_hist_by_cat(iris.PetalLengthCm, iris.Species)"
   ]
  },
  {
   "cell_type": "code",
   "execution_count": 215,
   "metadata": {},
   "outputs": [
    {
     "name": "stdout",
     "output_type": "stream",
     "text": [
      "f ratio is:  1179.0343277002194  and the p_value is:  3.0519758018278374e-91\n"
     ]
    }
   ],
   "source": [
    "anova(iris.PetalLengthCm, iris.Species)"
   ]
  },
  {
   "cell_type": "code",
   "execution_count": 216,
   "metadata": {},
   "outputs": [
    {
     "data": {
      "text/html": [
       "<table class=\"simpletable\">\n",
       "<caption>Multiple Comparison of Means - Tukey HSD,FWER=0.05</caption>\n",
       "<tr>\n",
       "      <th>group1</th>          <th>group2</th>      <th>meandiff</th>  <th>lower</th>  <th>upper</th> <th>reject</th>\n",
       "</tr>\n",
       "<tr>\n",
       "    <td>Iris-setosa</td>   <td>Iris-versicolor</td>   <td>2.796</td>  <td>2.5922</td> <td>2.9998</td>  <td>True</td> \n",
       "</tr>\n",
       "<tr>\n",
       "    <td>Iris-setosa</td>   <td>Iris-virginica</td>    <td>4.088</td>  <td>3.8842</td> <td>4.2918</td>  <td>True</td> \n",
       "</tr>\n",
       "<tr>\n",
       "  <td>Iris-versicolor</td> <td>Iris-virginica</td>    <td>1.292</td>  <td>1.0882</td> <td>1.4958</td>  <td>True</td> \n",
       "</tr>\n",
       "</table>"
      ],
      "text/plain": [
       "<class 'statsmodels.iolib.table.SimpleTable'>"
      ]
     },
     "metadata": {},
     "output_type": "display_data"
    }
   ],
   "source": [
    "tukey(iris.PetalLengthCm, iris.Species)"
   ]
  },
  {
   "cell_type": "markdown",
   "metadata": {},
   "source": [
    "<h3>Findings</h3>\n",
    "<br>\n",
    "There is clear seperation between setosa and the other two in terms of Petal length. Additionally there is very little overlap between virginica and versicolor and as such, this should be another strong feature for classification. "
   ]
  },
  {
   "cell_type": "markdown",
   "metadata": {},
   "source": [
    "<h3>Species and PetalWidthCm</h3>"
   ]
  },
  {
   "cell_type": "code",
   "execution_count": 217,
   "metadata": {},
   "outputs": [
    {
     "name": "stdout",
     "output_type": "stream",
     "text": [
      "Mean PetalWidthCm of Survivors vs Victims:\n"
     ]
    },
    {
     "data": {
      "text/plain": [
       "Species\n",
       "Iris-virginica     2.03\n",
       "Iris-versicolor    1.33\n",
       "Iris-setosa        0.24\n",
       "Name: PetalWidthCm, dtype: float64"
      ]
     },
     "metadata": {},
     "output_type": "display_data"
    },
    {
     "data": {
      "image/png": "[encoded data removed]",
      "text/plain": [
       "<Figure size 432x288 with 1 Axes>"
      ]
     },
     "metadata": {},
     "output_type": "display_data"
    }
   ],
   "source": [
    "nume_grouped_by_cat(iris.PetalWidthCm, iris.Species)"
   ]
  },
  {
   "cell_type": "code",
   "execution_count": 218,
   "metadata": {},
   "outputs": [
    {
     "data": {
      "image/png": "[encoded data removed]",
      "text/plain": [
       "<Figure size 432x288 with 1 Axes>"
      ]
     },
     "metadata": {},
     "output_type": "display_data"
    },
    {
     "data": {
      "text/plain": [
       "<matplotlib.axes._subplots.AxesSubplot at 0x1a186f6cc0>"
      ]
     },
     "metadata": {},
     "output_type": "display_data"
    }
   ],
   "source": [
    "boxplot(iris.PetalWidthCm, iris.Species)"
   ]
  },
  {
   "cell_type": "code",
   "execution_count": 219,
   "metadata": {},
   "outputs": [
    {
     "data": {
      "image/png": "[encoded data removed]",
      "text/plain": [
       "<Figure size 432x288 with 1 Axes>"
      ]
     },
     "metadata": {},
     "output_type": "display_data"
    }
   ],
   "source": [
    "nume_hist_by_cat(iris.PetalWidthCm, iris.Species)"
   ]
  },
  {
   "cell_type": "code",
   "execution_count": 220,
   "metadata": {},
   "outputs": [
    {
     "name": "stdout",
     "output_type": "stream",
     "text": [
      "f ratio is:  959.3244057257591  and the p_value is:  4.376956957489586e-85\n"
     ]
    }
   ],
   "source": [
    "anova(iris.PetalWidthCm, iris.Species)"
   ]
  },
  {
   "cell_type": "code",
   "execution_count": 221,
   "metadata": {},
   "outputs": [
    {
     "data": {
      "text/html": [
       "<table class=\"simpletable\">\n",
       "<caption>Multiple Comparison of Means - Tukey HSD,FWER=0.05</caption>\n",
       "<tr>\n",
       "      <th>group1</th>          <th>group2</th>      <th>meandiff</th>  <th>lower</th>  <th>upper</th> <th>reject</th>\n",
       "</tr>\n",
       "<tr>\n",
       "    <td>Iris-setosa</td>   <td>Iris-versicolor</td>   <td>1.082</td>  <td>0.9849</td> <td>1.1791</td>  <td>True</td> \n",
       "</tr>\n",
       "<tr>\n",
       "    <td>Iris-setosa</td>   <td>Iris-virginica</td>    <td>1.782</td>  <td>1.6849</td> <td>1.8791</td>  <td>True</td> \n",
       "</tr>\n",
       "<tr>\n",
       "  <td>Iris-versicolor</td> <td>Iris-virginica</td>     <td>0.7</td>   <td>0.6029</td> <td>0.7971</td>  <td>True</td> \n",
       "</tr>\n",
       "</table>"
      ],
      "text/plain": [
       "<class 'statsmodels.iolib.table.SimpleTable'>"
      ]
     },
     "metadata": {},
     "output_type": "display_data"
    }
   ],
   "source": [
    "tukey(iris.PetalWidthCm, iris.Species)"
   ]
  },
  {
   "cell_type": "markdown",
   "metadata": {},
   "source": [
    "<h3>Findings</h3>\n",
    "<br>\n",
    "Very similar findings to petallength, setosa is distinctly seperated and the other two have very few overlap. Another good indicator. "
   ]
  },
  {
   "cell_type": "markdown",
   "metadata": {},
   "source": [
    "<h2>Total Findings</h2>\n",
    "<br>\n",
    "Most of the features have statistical significance in finding species except for SepalWidth. We can either try to feature engineer it or just exclude for the time being. As seen in the boxplots, there are also a few datapoints that are outliers so we will remove them before continuing our analysis.\n",
    "<br>"
   ]
  },
  {
   "cell_type": "markdown",
   "metadata": {},
   "source": [
    "<h2>Removing Outliers</h2>"
   ]
  },
  {
   "cell_type": "code",
   "execution_count": 222,
   "metadata": {},
   "outputs": [],
   "source": [
    "def outlier(var, col): \n",
    "    q1 = var[col].quantile(0.25)\n",
    "    q3 = var[col].quantile(0.75)\n",
    "    iqr = q3 - q1 \n",
    "    \n",
    "    u_fence = q3 + (iqr*1.5)\n",
    "    l_fence = q1 - (iqr*1.5)\n",
    "    \n",
    "    outliers = var[(var[col] < l_fence) | (var[col] > u_fence)]\n",
    "    \n",
    "    filtered = var.drop(outliers.index, axis = 0)\n",
    "    return filtered"
   ]
  },
  {
   "cell_type": "code",
   "execution_count": 223,
   "metadata": {},
   "outputs": [],
   "source": [
    "species_split = [rows for Species, rows in iris.groupby('Species')]\n",
    "\n",
    "setosa = pd.DataFrame(species_split[0])\n",
    "versicolor = pd.DataFrame(species_split[1])\n",
    "virginica = pd.DataFrame(species_split[2])\n",
    "\n",
    "setosa = outlier(setosa, 'SepalLengthCm')\n",
    "setosa = outlier(setosa, 'SepalWidthCm')\n",
    "setosa = outlier(setosa, 'PetalWidthCm')\n",
    "setosa = outlier(setosa, 'PetalLengthCm')\n",
    "\n",
    "versicolor = outlier(versicolor, 'SepalLengthCm')\n",
    "versicolor = outlier(versicolor, 'SepalWidthCm')\n",
    "versicolor = outlier(versicolor, 'PetalWidthCm')\n",
    "versicolor = outlier(versicolor, 'PetalLengthCm')\n",
    "\n",
    "virginica = outlier(virginica, 'SepalLengthCm')\n",
    "virginica = outlier(virginica, 'SepalWidthCm')\n",
    "virginica = outlier(virginica, 'PetalWidthCm')\n",
    "virginica = outlier(virginica, 'PetalLengthCm')"
   ]
  },
  {
   "cell_type": "code",
   "execution_count": 224,
   "metadata": {},
   "outputs": [
    {
     "data": {
      "text/html": [
       "<div>\n",
       "<style scoped>\n",
       "    .dataframe tbody tr th:only-of-type {\n",
       "        vertical-align: middle;\n",
       "    }\n",
       "\n",
       "    .dataframe tbody tr th {\n",
       "        vertical-align: top;\n",
       "    }\n",
       "\n",
       "    .dataframe thead th {\n",
       "        text-align: right;\n",
       "    }\n",
       "</style>\n",
       "<table border=\"1\" class=\"dataframe\">\n",
       "  <thead>\n",
       "    <tr style=\"text-align: right;\">\n",
       "      <th></th>\n",
       "      <th>Id</th>\n",
       "      <th>SepalLengthCm</th>\n",
       "      <th>SepalWidthCm</th>\n",
       "      <th>PetalLengthCm</th>\n",
       "      <th>PetalWidthCm</th>\n",
       "      <th>Species</th>\n",
       "    </tr>\n",
       "  </thead>\n",
       "  <tbody>\n",
       "    <tr>\n",
       "      <th>131</th>\n",
       "      <td>145</td>\n",
       "      <td>6.7</td>\n",
       "      <td>3.3</td>\n",
       "      <td>5.7</td>\n",
       "      <td>2.5</td>\n",
       "      <td>Iris-virginica</td>\n",
       "    </tr>\n",
       "    <tr>\n",
       "      <th>71</th>\n",
       "      <td>83</td>\n",
       "      <td>5.8</td>\n",
       "      <td>2.7</td>\n",
       "      <td>3.9</td>\n",
       "      <td>1.2</td>\n",
       "      <td>Iris-versicolor</td>\n",
       "    </tr>\n",
       "    <tr>\n",
       "      <th>68</th>\n",
       "      <td>80</td>\n",
       "      <td>5.7</td>\n",
       "      <td>2.6</td>\n",
       "      <td>3.5</td>\n",
       "      <td>1.0</td>\n",
       "      <td>Iris-versicolor</td>\n",
       "    </tr>\n",
       "  </tbody>\n",
       "</table>\n",
       "</div>"
      ],
      "text/plain": [
       "      Id  SepalLengthCm  SepalWidthCm  PetalLengthCm  PetalWidthCm  \\\n",
       "131  145            6.7           3.3            5.7           2.5   \n",
       "71    83            5.8           2.7            3.9           1.2   \n",
       "68    80            5.7           2.6            3.5           1.0   \n",
       "\n",
       "             Species  \n",
       "131   Iris-virginica  \n",
       "71   Iris-versicolor  \n",
       "68   Iris-versicolor  "
      ]
     },
     "execution_count": 224,
     "metadata": {},
     "output_type": "execute_result"
    }
   ],
   "source": [
    "new_iris = pd.concat([setosa, versicolor, virginica], ignore_index=True)\n",
    "\n",
    "from sklearn.utils import shuffle\n",
    "iris = shuffle(new_iris)\n",
    "\n",
    "iris.head(3)"
   ]
  },
  {
   "cell_type": "markdown",
   "metadata": {},
   "source": [
    "<h3>Outcome</h3>\n",
    "<br>\n",
    "We have now removed all rows that contained outlier values as this could skew some of our data. Our rows did fall from 120 to 103 however which is quite significant. I will recover the full 120 and do a comparison later on and see if removing outliers actually helped our model. "
   ]
  },
  {
   "cell_type": "markdown",
   "metadata": {},
   "source": [
    "<h2>Heatmap for correlation</h2>"
   ]
  },
  {
   "cell_type": "code",
   "execution_count": 225,
   "metadata": {},
   "outputs": [
    {
     "data": {
      "image/png": "[encoded data removed]",
      "text/plain": [
       "<Figure size 432x288 with 2 Axes>"
      ]
     },
     "metadata": {},
     "output_type": "display_data"
    }
   ],
   "source": [
    "correlation = iris.loc[:, ['SepalLengthCm', 'SepalWidthCm', 'PetalLengthCm', 'PetalWidthCm']]\n",
    "\n",
    "from sklearn.preprocessing import LabelEncoder\n",
    "correlation = correlation.agg(LabelEncoder().fit_transform)\n",
    "correlation['SepalLengthCm'] = iris.SepalLengthCm \n",
    "correlation = correlation.set_index('SepalLengthCm').reset_index()\n",
    "\n",
    "'''Now create the heatmap correlation.'''\n",
    "sns.heatmap(correlation.corr(), cmap ='BrBG', annot = True)\n",
    "plt.title('Variables Correlation')\n",
    "plt.show()"
   ]
  },
  {
   "cell_type": "markdown",
   "metadata": {},
   "source": [
    "<h3>Findings</h3>\n",
    "<br>\n",
    "The heatmap reinforces what we found when looking at the scatter plots that petal width and petal length have the strongest correlations with one other. We will take this into consideration when applying our models with training sets. "
   ]
  },
  {
   "cell_type": "markdown",
   "metadata": {},
   "source": [
    "<h2>Preparing our data</h2>"
   ]
  },
  {
   "cell_type": "code",
   "execution_count": 242,
   "metadata": {},
   "outputs": [],
   "source": [
    "from sklearn.cross_validation import train_test_split\n",
    "\n",
    "#full data \n",
    "train, test = train_test_split(data, test_size=0.2)\n",
    "\n",
    "test = test.drop('Id', axis=1).copy()\n",
    "test_x = test.drop(columns='Species', axis=1)\n",
    "test_y = test['Species']\n",
    "\n",
    "train = train.drop(columns='Id', axis=1)\n",
    "train_x = train.drop(columns='Species', axis=1)\n",
    "train_y = train['Species']\n",
    "\n",
    "\n",
    "#removed outliers for training set\n",
    "train1, test1 = train_test_split(iris, test_size=0.2)\n",
    "\n",
    "train1 = train1.drop(columns='Id', axis=1)\n",
    "\n",
    "train1_x = train1.drop(columns='Species', axis=1)\n",
    "train1_y = train1['Species']"
   ]
  },
  {
   "cell_type": "markdown",
   "metadata": {},
   "source": [
    "I've perpared two different training sets for our models, one will include all the data available and the other will be the set without the outlier values. I want to see if removing the outliers will have a stronger effect than losing a portion of the data. "
   ]
  },
  {
   "cell_type": "markdown",
   "metadata": {},
   "source": [
    "<h2>Time for Machine Learning</h2>"
   ]
  },
  {
   "cell_type": "code",
   "execution_count": 273,
   "metadata": {},
   "outputs": [],
   "source": [
    "from sklearn import metrics #for checking the model accuracy\n",
    "\n",
    "# how well it scores on training sets\n",
    "def train_accuracy(model):\n",
    "    model.fit(train_x, train_y)\n",
    "    score = model.score(train_x, train_y)\n",
    "    score = np.round(score*100, 2)\n",
    "    return score  \n",
    "\n",
    "\n",
    "def prediction_accuracy(model):\n",
    "    model.fit(train_x, train_y)\n",
    "    prediction = model.predict(test_x)\n",
    "    return metrics.accuracy_score(prediction,test_y)\n",
    "    \n",
    "seed = 43\n",
    "\n",
    "'''#1.Logistic Regression'''\n",
    "from sklearn.linear_model import LogisticRegression\n",
    "lr = LogisticRegression()\n",
    "\n",
    "'''#2.Support Vector Machines'''\n",
    "from sklearn.svm import SVC\n",
    "svc = SVC(gamma = 'auto')\n",
    "\n",
    "'''#3.Random Forest Classifier'''\n",
    "from sklearn.ensemble import RandomForestClassifier\n",
    "rf = RandomForestClassifier(random_state = seed, n_estimators = 100)\n",
    "\n",
    "'''#4.KNN'''\n",
    "from sklearn.neighbors import KNeighborsClassifier\n",
    "knn = KNeighborsClassifier()\n",
    "\n",
    "'''#5.Gaussian Naive Bayes'''\n",
    "from sklearn.naive_bayes import GaussianNB\n",
    "gnb = GaussianNB()\n",
    "\n",
    "'''#6.Decision Tree Classifier'''\n",
    "from sklearn.tree import DecisionTreeClassifier\n",
    "dt = DecisionTreeClassifier(random_state = seed)\n",
    "\n",
    "'''#7.Gradient Boosting Classifier'''\n",
    "from sklearn.ensemble import GradientBoostingClassifier\n",
    "gbc = GradientBoostingClassifier(random_state = seed)\n",
    "\n",
    "'''#8.Adaboost Classifier'''\n",
    "from sklearn.ensemble import AdaBoostClassifier\n",
    "abc = AdaBoostClassifier(random_state = seed)"
   ]
  },
  {
   "cell_type": "code",
   "execution_count": 267,
   "metadata": {},
   "outputs": [
    {
     "name": "stdout",
     "output_type": "stream",
     "text": [
      "The accuracy is:  0.9666666666666667\n"
     ]
    }
   ],
   "source": [
    "prediction_accuracy(abc)"
   ]
  },
  {
   "cell_type": "code",
   "execution_count": 270,
   "metadata": {},
   "outputs": [
    {
     "data": {
      "text/html": [
       "<div>\n",
       "<style scoped>\n",
       "    .dataframe tbody tr th:only-of-type {\n",
       "        vertical-align: middle;\n",
       "    }\n",
       "\n",
       "    .dataframe tbody tr th {\n",
       "        vertical-align: top;\n",
       "    }\n",
       "\n",
       "    .dataframe thead th {\n",
       "        text-align: right;\n",
       "    }\n",
       "</style>\n",
       "<table border=\"1\" class=\"dataframe\">\n",
       "  <thead>\n",
       "    <tr style=\"text-align: right;\">\n",
       "      <th></th>\n",
       "      <th>Train_accuracy(%)</th>\n",
       "    </tr>\n",
       "  </thead>\n",
       "  <tbody>\n",
       "    <tr>\n",
       "      <th>RF</th>\n",
       "      <td>100.00</td>\n",
       "    </tr>\n",
       "    <tr>\n",
       "      <th>DT</th>\n",
       "      <td>100.00</td>\n",
       "    </tr>\n",
       "    <tr>\n",
       "      <th>GBC</th>\n",
       "      <td>100.00</td>\n",
       "    </tr>\n",
       "    <tr>\n",
       "      <th>SVC</th>\n",
       "      <td>97.50</td>\n",
       "    </tr>\n",
       "    <tr>\n",
       "      <th>KNN</th>\n",
       "      <td>97.50</td>\n",
       "    </tr>\n",
       "    <tr>\n",
       "      <th>LR</th>\n",
       "      <td>96.67</td>\n",
       "    </tr>\n",
       "    <tr>\n",
       "      <th>GNB</th>\n",
       "      <td>95.83</td>\n",
       "    </tr>\n",
       "    <tr>\n",
       "      <th>ABC</th>\n",
       "      <td>92.50</td>\n",
       "    </tr>\n",
       "  </tbody>\n",
       "</table>\n",
       "</div>"
      ],
      "text/plain": [
       "     Train_accuracy(%)\n",
       "RF              100.00\n",
       "DT              100.00\n",
       "GBC             100.00\n",
       "SVC              97.50\n",
       "KNN              97.50\n",
       "LR               96.67\n",
       "GNB              95.83\n",
       "ABC              92.50"
      ]
     },
     "metadata": {},
     "output_type": "display_data"
    }
   ],
   "source": [
    "models_accuracy = pd.DataFrame({'Train_accuracy(%)':[train_accuracy(lr), train_accuracy(svc),\n",
    "                                                     train_accuracy(rf), train_accuracy(knn),\n",
    "                                                     train_accuracy(gnb), train_accuracy(dt),\n",
    "                                                     train_accuracy(gbc), train_accuracy(abc)]})\n",
    "models_accuracy.index = ['LR', 'SVC', 'RF', 'KNN', 'GNB', 'DT', 'GBC', 'ABC']\n",
    "sorted_train_accuracy = models_accuracy.sort_values(by = 'Train_accuracy(%)', ascending = False)\n",
    "\n",
    "display(sorted_train_accuracy)"
   ]
  },
  {
   "cell_type": "code",
   "execution_count": 274,
   "metadata": {},
   "outputs": [
    {
     "data": {
      "text/html": [
       "<div>\n",
       "<style scoped>\n",
       "    .dataframe tbody tr th:only-of-type {\n",
       "        vertical-align: middle;\n",
       "    }\n",
       "\n",
       "    .dataframe tbody tr th {\n",
       "        vertical-align: top;\n",
       "    }\n",
       "\n",
       "    .dataframe thead th {\n",
       "        text-align: right;\n",
       "    }\n",
       "</style>\n",
       "<table border=\"1\" class=\"dataframe\">\n",
       "  <thead>\n",
       "    <tr style=\"text-align: right;\">\n",
       "      <th></th>\n",
       "      <th>Prediction_accuracy</th>\n",
       "    </tr>\n",
       "  </thead>\n",
       "  <tbody>\n",
       "    <tr>\n",
       "      <th>LR</th>\n",
       "      <td>1.000000</td>\n",
       "    </tr>\n",
       "    <tr>\n",
       "      <th>SVC</th>\n",
       "      <td>1.000000</td>\n",
       "    </tr>\n",
       "    <tr>\n",
       "      <th>RF</th>\n",
       "      <td>0.966667</td>\n",
       "    </tr>\n",
       "    <tr>\n",
       "      <th>KNN</th>\n",
       "      <td>0.966667</td>\n",
       "    </tr>\n",
       "    <tr>\n",
       "      <th>DT</th>\n",
       "      <td>0.966667</td>\n",
       "    </tr>\n",
       "    <tr>\n",
       "      <th>GBC</th>\n",
       "      <td>0.966667</td>\n",
       "    </tr>\n",
       "    <tr>\n",
       "      <th>ABC</th>\n",
       "      <td>0.966667</td>\n",
       "    </tr>\n",
       "    <tr>\n",
       "      <th>GNB</th>\n",
       "      <td>0.933333</td>\n",
       "    </tr>\n",
       "  </tbody>\n",
       "</table>\n",
       "</div>"
      ],
      "text/plain": [
       "     Prediction_accuracy\n",
       "LR              1.000000\n",
       "SVC             1.000000\n",
       "RF              0.966667\n",
       "KNN             0.966667\n",
       "DT              0.966667\n",
       "GBC             0.966667\n",
       "ABC             0.966667\n",
       "GNB             0.933333"
      ]
     },
     "metadata": {},
     "output_type": "display_data"
    }
   ],
   "source": [
    "models_prediction = pd.DataFrame({'Prediction_accuracy':[prediction_accuracy(lr), prediction_accuracy(svc),\n",
    "                                                         prediction_accuracy(rf), prediction_accuracy(knn),\n",
    "                                                         prediction_accuracy(gnb), prediction_accuracy(dt),\n",
    "                                                         prediction_accuracy(gbc), prediction_accuracy(abc)]})\n",
    "models_prediction.index = ['LR', 'SVC', 'RF', 'KNN', 'GNB', 'DT', 'GBC', 'ABC']\n",
    "sorted_predictions = models_prediction.sort_values(by = 'Prediction_accuracy', ascending = False)\n",
    "\n",
    "display(sorted_predictions)"
   ]
  },
  {
   "cell_type": "markdown",
   "metadata": {},
   "source": [
    "First round of running, we see that our models are performing incredibly well on both training sets and test sets. We can tune hyperparameters but in this case, they seem well enough that I won't go too in depth for them. I will tune KNN as I have not done so before. "
   ]
  },
  {
   "cell_type": "code",
   "execution_count": 276,
   "metadata": {
    "scrolled": true
   },
   "outputs": [
    {
     "data": {
      "text/plain": [
       "([<matplotlib.axis.XTick at 0x1a17d764a8>,\n",
       "  <matplotlib.axis.XTick at 0x1a188a6908>,\n",
       "  <matplotlib.axis.XTick at 0x1a188a6cf8>,\n",
       "  <matplotlib.axis.XTick at 0x1a18260160>,\n",
       "  <matplotlib.axis.XTick at 0x1a182601d0>,\n",
       "  <matplotlib.axis.XTick at 0x1a17f198d0>,\n",
       "  <matplotlib.axis.XTick at 0x1a17f19390>,\n",
       "  <matplotlib.axis.XTick at 0x1a17f19860>,\n",
       "  <matplotlib.axis.XTick at 0x1a187049e8>,\n",
       "  <matplotlib.axis.XTick at 0x1a18704e80>],\n",
       " <a list of 10 Text xticklabel objects>)"
      ]
     },
     "execution_count": 276,
     "metadata": {},
     "output_type": "execute_result"
    },
    {
     "data": {
      "image/png": "[encoded data removed]",
      "text/plain": [
       "<Figure size 432x288 with 1 Axes>"
      ]
     },
     "metadata": {},
     "output_type": "display_data"
    }
   ],
   "source": [
    "a_index=list(range(1,11))\n",
    "a=pd.Series()\n",
    "x=[1,2,3,4,5,6,7,8,9,10]\n",
    "for i in list(range(1,11)):\n",
    "    model=KNeighborsClassifier(n_neighbors=i) \n",
    "    model.fit(train_x,train_y)\n",
    "    prediction=model.predict(test_x)\n",
    "    a=a.append(pd.Series(metrics.accuracy_score(prediction,test_y)))\n",
    "plt.plot(a_index, a)\n",
    "plt.xticks(x)"
   ]
  },
  {
   "cell_type": "code",
   "execution_count": 279,
   "metadata": {},
   "outputs": [
    {
     "data": {
      "text/plain": [
       "([<matplotlib.axis.XTick at 0x1a18228b00>,\n",
       "  <matplotlib.axis.XTick at 0x1084a5da0>,\n",
       "  <matplotlib.axis.XTick at 0x1084a5cf8>,\n",
       "  <matplotlib.axis.XTick at 0x1a184062e8>,\n",
       "  <matplotlib.axis.XTick at 0x1a17dd0eb8>,\n",
       "  <matplotlib.axis.XTick at 0x1a17dd0c50>,\n",
       "  <matplotlib.axis.XTick at 0x1a17dd08d0>,\n",
       "  <matplotlib.axis.XTick at 0x1a17ed6a58>,\n",
       "  <matplotlib.axis.XTick at 0x1a17ed66a0>,\n",
       "  <matplotlib.axis.XTick at 0x1a17dd0160>],\n",
       " <a list of 10 Text xticklabel objects>)"
      ]
     },
     "execution_count": 279,
     "metadata": {},
     "output_type": "execute_result"
    },
    {
     "data": {
      "image/png": "[encoded data removed]",
      "text/plain": [
       "<Figure size 432x288 with 1 Axes>"
      ]
     },
     "metadata": {},
     "output_type": "display_data"
    }
   ],
   "source": [
    "a_index=list(range(1,11))\n",
    "a=pd.Series()\n",
    "x=[1,2,3,4,5,6,7,8,9,10]\n",
    "for i in list(range(1,11)):\n",
    "    model=KNeighborsClassifier(n_neighbors=i) \n",
    "    model.fit(train_x,train_y)\n",
    "    score = model.score(train_x, train_y)\n",
    "    score = np.round(score*100, 2)\n",
    "    \n",
    "    a=a.append(pd.Series(score))\n",
    "plt.plot(a_index, a)\n",
    "plt.xticks(x)"
   ]
  },
  {
   "cell_type": "markdown",
   "metadata": {},
   "source": [
    "Here we notice that for n >= 7, KNN predicts significantly better. As such, we will tune and retest KNN. "
   ]
  },
  {
   "cell_type": "code",
   "execution_count": 282,
   "metadata": {},
   "outputs": [
    {
     "data": {
      "text/plain": [
       "1.0"
      ]
     },
     "execution_count": 282,
     "metadata": {},
     "output_type": "execute_result"
    }
   ],
   "source": [
    "knn = KNeighborsClassifier(7)\n",
    "\n",
    "prediction_accuracy(knn)"
   ]
  },
  {
   "cell_type": "code",
   "execution_count": 283,
   "metadata": {},
   "outputs": [
    {
     "data": {
      "text/plain": [
       "96.67"
      ]
     },
     "execution_count": 283,
     "metadata": {},
     "output_type": "execute_result"
    }
   ],
   "source": [
    "train_accuracy(knn)"
   ]
  },
  {
   "cell_type": "markdown",
   "metadata": {},
   "source": [
    "We notice that although we get a perfect prediction on our test set, our training accuracy drops. This shows that n >= 7 might not be the best parameter. "
   ]
  },
  {
   "cell_type": "code",
   "execution_count": 287,
   "metadata": {},
   "outputs": [
    {
     "name": "stdout",
     "output_type": "stream",
     "text": [
      "Best score: 96.67\n",
      "Best parameters: {'algorithm': 'auto', 'leaf_size': 1, 'n_neighbors': 4, 'weights': 'uniform'}\n"
     ]
    }
   ],
   "source": [
    "def tune_hyperparameters(model, params):\n",
    "    from sklearn.model_selection import GridSearchCV\n",
    "    global best_params, best_score\n",
    "    \n",
    "    grid = GridSearchCV(model, params, cv = 10, scoring = 'accuracy', n_jobs = -1)\n",
    "    grid.fit(train_x, train_y)\n",
    "    best_params, best_score = grid.best_params_, np.round(grid.best_score_*100, 2)\n",
    "    print('Best score:', best_score)\n",
    "    print('Best parameters:', best_params) \n",
    "    return best_params, best_score\n",
    "\n",
    "knn_params = {'n_neighbors':[3, 4, 5, 6, 7, 8, 9, 10],\n",
    "              'leaf_size':[1, 2, 3, 5],\n",
    "              'weights':['uniform', 'distance'],\n",
    "              'algorithm':['auto', 'ball_tree','kd_tree','brute']}\n",
    "\n",
    "rf_params = {'criterion':['gini','entropy'],\n",
    "             'n_estimators':[10, 15, 20, 25, 30],\n",
    "             'min_samples_leaf':[1, 2, 3],\n",
    "             'min_samples_split':[3, 4, 5, 6, 7], \n",
    "             'max_features':['sqrt', 'auto', 'log2'],\n",
    "             'random_state':[44]}\n",
    "\n",
    "knn = KNeighborsClassifier()\n",
    "\n",
    "tune_hyperparameters(knn, params = knn_params)\n",
    "knn_best_score, knn_best_params = best_score, best_params"
   ]
  },
  {
   "cell_type": "markdown",
   "metadata": {},
   "source": [
    "Using gridsearch, we see that the best n_neighbor value is actually 4."
   ]
  },
  {
   "cell_type": "code",
   "execution_count": 288,
   "metadata": {},
   "outputs": [
    {
     "name": "stdout",
     "output_type": "stream",
     "text": [
      "Best score: 95.83\n",
      "Best parameters: {'criterion': 'gini', 'max_features': 'sqrt', 'min_samples_leaf': 1, 'min_samples_split': 3, 'n_estimators': 15, 'random_state': 44}\n"
     ]
    }
   ],
   "source": [
    "rf = RandomForestClassifier(random_state = seed, n_estimators = 100)\n",
    "\n",
    "tune_hyperparameters(rf, params = rf_params)\n",
    "rf_best_score, rf_best_params = best_score, best_params"
   ]
  },
  {
   "cell_type": "markdown",
   "metadata": {},
   "source": [
    "<h3>Now I would like to experiement and see how well the dataset of removed outliers will perform</h3>"
   ]
  },
  {
   "cell_type": "code",
   "execution_count": 293,
   "metadata": {},
   "outputs": [],
   "source": [
    "from sklearn import metrics #for checking the model accuracy\n",
    "\n",
    "# how well it scores on training sets\n",
    "def train1_accuracy(model):\n",
    "    model.fit(train1_x, train1_y)\n",
    "    score = model.score(train1_x, train1_y)\n",
    "    score = np.round(score*100, 2)\n",
    "    return score  \n",
    "\n",
    "\n",
    "def prediction1_accuracy(model):\n",
    "    model.fit(train1_x, train1_y)\n",
    "    prediction = model.predict(test_x)\n",
    "    return metrics.accuracy_score(prediction,test_y)\n",
    "    \n",
    "seed = 43\n",
    "\n",
    "'''#1.Logistic Regression'''\n",
    "lr = LogisticRegression()\n",
    "\n",
    "'''#2.Support Vector Machines'''\n",
    "svc = SVC(gamma = 'auto')\n",
    "\n",
    "'''#3.Random Forest Classifier'''\n",
    "rf = RandomForestClassifier(random_state = seed, n_estimators = 100)\n",
    "\n",
    "'''#4.KNN'''\n",
    "knn = KNeighborsClassifier()\n",
    "\n",
    "'''#5.Gaussian Naive Bayes'''\n",
    "gnb = GaussianNB()\n",
    "\n",
    "'''#6.Decision Tree Classifier'''\n",
    "dt = DecisionTreeClassifier(random_state = seed)\n",
    "\n",
    "'''#7.Gradient Boosting Classifier'''\n",
    "gbc = GradientBoostingClassifier(random_state = seed)\n",
    "\n",
    "'''#8.Adaboost Classifier'''\n",
    "abc = AdaBoostClassifier(random_state = seed)"
   ]
  },
  {
   "cell_type": "code",
   "execution_count": 291,
   "metadata": {},
   "outputs": [
    {
     "data": {
      "text/html": [
       "<div>\n",
       "<style scoped>\n",
       "    .dataframe tbody tr th:only-of-type {\n",
       "        vertical-align: middle;\n",
       "    }\n",
       "\n",
       "    .dataframe tbody tr th {\n",
       "        vertical-align: top;\n",
       "    }\n",
       "\n",
       "    .dataframe thead th {\n",
       "        text-align: right;\n",
       "    }\n",
       "</style>\n",
       "<table border=\"1\" class=\"dataframe\">\n",
       "  <thead>\n",
       "    <tr style=\"text-align: right;\">\n",
       "      <th></th>\n",
       "      <th>Train_accuracy(%)</th>\n",
       "    </tr>\n",
       "  </thead>\n",
       "  <tbody>\n",
       "    <tr>\n",
       "      <th>RF</th>\n",
       "      <td>100.00</td>\n",
       "    </tr>\n",
       "    <tr>\n",
       "      <th>DT</th>\n",
       "      <td>100.00</td>\n",
       "    </tr>\n",
       "    <tr>\n",
       "      <th>GBC</th>\n",
       "      <td>100.00</td>\n",
       "    </tr>\n",
       "    <tr>\n",
       "      <th>SVC</th>\n",
       "      <td>98.33</td>\n",
       "    </tr>\n",
       "    <tr>\n",
       "      <th>KNN</th>\n",
       "      <td>97.50</td>\n",
       "    </tr>\n",
       "    <tr>\n",
       "      <th>LR</th>\n",
       "      <td>95.83</td>\n",
       "    </tr>\n",
       "    <tr>\n",
       "      <th>GNB</th>\n",
       "      <td>95.00</td>\n",
       "    </tr>\n",
       "    <tr>\n",
       "      <th>ABC</th>\n",
       "      <td>95.00</td>\n",
       "    </tr>\n",
       "  </tbody>\n",
       "</table>\n",
       "</div>"
      ],
      "text/plain": [
       "     Train_accuracy(%)\n",
       "RF              100.00\n",
       "DT              100.00\n",
       "GBC             100.00\n",
       "SVC              98.33\n",
       "KNN              97.50\n",
       "LR               95.83\n",
       "GNB              95.00\n",
       "ABC              95.00"
      ]
     },
     "metadata": {},
     "output_type": "display_data"
    }
   ],
   "source": [
    "models1_accuracy = pd.DataFrame({'Train_accuracy(%)':[train1_accuracy(lr), train1_accuracy(svc),\n",
    "                                                     train1_accuracy(rf), train1_accuracy(knn),\n",
    "                                                     train1_accuracy(gnb), train1_accuracy(dt),\n",
    "                                                     train1_accuracy(gbc), train1_accuracy(abc)]})\n",
    "models1_accuracy.index = ['LR', 'SVC', 'RF', 'KNN', 'GNB', 'DT', 'GBC', 'ABC']\n",
    "sorted_train_accuracy1 = models1_accuracy.sort_values(by = 'Train_accuracy(%)', ascending = False)\n",
    "\n",
    "display(sorted_train_accuracy1)"
   ]
  },
  {
   "cell_type": "markdown",
   "metadata": {},
   "source": [
    "Train_accuracy(%) for full dataset\n",
    "RF\t100.00\n",
    "DT\t100.00\n",
    "GBC\t100.00\n",
    "SVC\t97.50\n",
    "KNN\t97.50\n",
    "LR\t96.67\n",
    "GNB\t95.83\n",
    "ABC\t92.50\n",
    "\n",
    "In comparison we see that the training values are slightly better with the outlier-free set. GNB and LR suffered a bit from the smaller dataset. "
   ]
  },
  {
   "cell_type": "code",
   "execution_count": 295,
   "metadata": {},
   "outputs": [
    {
     "data": {
      "text/html": [
       "<div>\n",
       "<style scoped>\n",
       "    .dataframe tbody tr th:only-of-type {\n",
       "        vertical-align: middle;\n",
       "    }\n",
       "\n",
       "    .dataframe tbody tr th {\n",
       "        vertical-align: top;\n",
       "    }\n",
       "\n",
       "    .dataframe thead th {\n",
       "        text-align: right;\n",
       "    }\n",
       "</style>\n",
       "<table border=\"1\" class=\"dataframe\">\n",
       "  <thead>\n",
       "    <tr style=\"text-align: right;\">\n",
       "      <th></th>\n",
       "      <th>Prediction_accuracy</th>\n",
       "    </tr>\n",
       "  </thead>\n",
       "  <tbody>\n",
       "    <tr>\n",
       "      <th>LR</th>\n",
       "      <td>1.000000</td>\n",
       "    </tr>\n",
       "    <tr>\n",
       "      <th>SVC</th>\n",
       "      <td>1.000000</td>\n",
       "    </tr>\n",
       "    <tr>\n",
       "      <th>KNN</th>\n",
       "      <td>1.000000</td>\n",
       "    </tr>\n",
       "    <tr>\n",
       "      <th>RF</th>\n",
       "      <td>0.966667</td>\n",
       "    </tr>\n",
       "    <tr>\n",
       "      <th>DT</th>\n",
       "      <td>0.966667</td>\n",
       "    </tr>\n",
       "    <tr>\n",
       "      <th>GBC</th>\n",
       "      <td>0.966667</td>\n",
       "    </tr>\n",
       "    <tr>\n",
       "      <th>ABC</th>\n",
       "      <td>0.966667</td>\n",
       "    </tr>\n",
       "    <tr>\n",
       "      <th>GNB</th>\n",
       "      <td>0.933333</td>\n",
       "    </tr>\n",
       "  </tbody>\n",
       "</table>\n",
       "</div>"
      ],
      "text/plain": [
       "     Prediction_accuracy\n",
       "LR              1.000000\n",
       "SVC             1.000000\n",
       "KNN             1.000000\n",
       "RF              0.966667\n",
       "DT              0.966667\n",
       "GBC             0.966667\n",
       "ABC             0.966667\n",
       "GNB             0.933333"
      ]
     },
     "metadata": {},
     "output_type": "display_data"
    }
   ],
   "source": [
    "models1_prediction = pd.DataFrame({'Prediction_accuracy':[prediction1_accuracy(lr), prediction1_accuracy(svc),\n",
    "                                                         prediction1_accuracy(rf), prediction1_accuracy(knn),\n",
    "                                                         prediction1_accuracy(gnb), prediction1_accuracy(dt),\n",
    "                                                         prediction1_accuracy(gbc), prediction1_accuracy(abc)]})\n",
    "models1_prediction.index = ['LR', 'SVC', 'RF', 'KNN', 'GNB', 'DT', 'GBC', 'ABC']\n",
    "sorted_predictions1 = models1_prediction.sort_values(by = 'Prediction_accuracy', ascending = False)\n",
    "\n",
    "display(sorted_predictions1)"
   ]
  },
  {
   "cell_type": "markdown",
   "metadata": {},
   "source": [
    "Prediction_accuracy\n",
    "LR\t1.000000\n",
    "SVC\t1.000000\n",
    "RF\t0.966667\n",
    "KNN\t0.966667\n",
    "DT\t0.966667\n",
    "GBC\t0.966667\n",
    "ABC\t0.966667\n",
    "GNB\t0.933333\n",
    "\n",
    "Surprising, the only model to be affected was KNN and it rose to a perfect prediction accuracy. The other models had no change whatsoever. "
   ]
  },
  {
   "cell_type": "markdown",
   "metadata": {},
   "source": [
    "<h3>Findings</h3>\n",
    "<br>\n",
    "Thus, for this dataset, it seems like having more precise values over larger quantity of data was slightly beneficial. I had assumed that there would be more difference since the outlier cutting removed almost 1/6 of total entries in our training sets. "
   ]
  },
  {
   "cell_type": "markdown",
   "metadata": {},
   "source": [
    "<h2>Feature Importance</h2>"
   ]
  },
  {
   "cell_type": "code",
   "execution_count": 298,
   "metadata": {},
   "outputs": [
    {
     "data": {
      "text/plain": [
       "<matplotlib.axes._subplots.AxesSubplot at 0x1a189a9080>"
      ]
     },
     "execution_count": 298,
     "metadata": {},
     "output_type": "execute_result"
    },
    {
     "data": {
      "image/png": "[encoded data removed]",
      "text/plain": [
       "<Figure size 432x288 with 1 Axes>"
      ]
     },
     "metadata": {},
     "output_type": "display_data"
    },
    {
     "data": {
      "image/png": "[encoded data removed]",
      "text/plain": [
       "<Figure size 432x288 with 1 Axes>"
      ]
     },
     "metadata": {},
     "output_type": "display_data"
    }
   ],
   "source": [
    "def plot_feature_importance(model):\n",
    "    features = pd.DataFrame({'Feature Name': train_x.columns, 'Importance': np.round(model.feature_importances_, 3)})\n",
    "    features = features.sort_values(by = 'Importance', ascending = False).set_index('Feature Name')\n",
    "    return features\n",
    "\n",
    "f_size = 14.5\n",
    "plot_feature_importance(rf).plot.bar(title = 'RF', fontsize = f_size)\n",
    "plot_feature_importance(gbc).plot.bar(title = 'GBC', fontsize = f_size)"
   ]
  },
  {
   "cell_type": "code",
   "execution_count": 299,
   "metadata": {},
   "outputs": [
    {
     "data": {
      "image/png": "[encoded data removed]",
      "text/plain": [
       "<Figure size 1440x576 with 1 Axes>"
      ]
     },
     "metadata": {},
     "output_type": "display_data"
    }
   ],
   "source": [
    "coeff = pd.DataFrame({\"Feature\":train_x.columns,\"Importance\":np.transpose(lr.coef_[0])})\n",
    "coeff.sort_values(by = 'Importance').set_index('Feature').plot.bar(figsize = (20,8))\n",
    "plt.title('Feature Importance of Linear Model (LR)')\n",
    "plt.show()"
   ]
  },
  {
   "cell_type": "markdown",
   "metadata": {},
   "source": [
    "As we expected, petal length and width were much larger factors than those coming from sepals. Another study found online conducted a test with just petal values vs sepal values and found an overwhelming difference in favour of petals. Thus, we can conclude that petals were the strongest distinguisher for our machine learning models."
   ]
  },
  {
   "cell_type": "markdown",
   "metadata": {},
   "source": [
    "<h1>Conclusion</h1>\n",
    "<br>\n",
    "The Iris dataset was very easy to work with but was good for practicing for classification. The best models to predict what species of irises are based on petal and sepal length and widths are tree models like DT or FR as well as Logistic regression and Support Vector Machines. They all performed very well. "
   ]
  }
 ],
 "metadata": {
  "kernelspec": {
   "display_name": "Python 3",
   "language": "python",
   "name": "python3"
  },
  "language_info": {
   "codemirror_mode": {
    "name": "ipython",
    "version": 3
   },
   "file_extension": ".py",
   "mimetype": "text/x-python",
   "name": "python",
   "nbconvert_exporter": "python",
   "pygments_lexer": "ipython3",
   "version": "3.6.5"
  }
 },
 "nbformat": 4,
 "nbformat_minor": 2
}
